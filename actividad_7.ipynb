{
  "cells": [
    {
      "cell_type": "markdown",
      "metadata": {
        "id": "view-in-github",
        "colab_type": "text"
      },
      "source": [
        "<a href=\"https://colab.research.google.com/github/wilfredomartinez-prog/Python-/blob/main/actividad_7.ipynb\" target=\"_parent\"><img src=\"https://colab.research.google.com/assets/colab-badge.svg\" alt=\"Open In Colab\"/></a>"
      ]
    },
    {
      "cell_type": "markdown",
      "metadata": {
        "id": "woC6NPDrVEFa"
      },
      "source": [
        "# Gestión de Datos con Diccionarios y Menú Interactivo"
      ]
    },
    {
      "cell_type": "markdown",
      "metadata": {
        "id": "6UUeIPb6VLS5"
      },
      "source": [
        "## 1. Menú Interactivo para Gestión de Alumnos"
      ]
    },
    {
      "cell_type": "markdown",
      "metadata": {
        "id": "cY7nQgVRVPXa"
      },
      "source": [
        "### Desarrollar un programa que permita gestionar datos de alumnos mediante un menú con las siguientes opciones:                                             1. Leer Diccionario: Generar un diccionario con datos de un alumno, pedir al usuario los datos.                                                             2. Generar Diccionario: Generar un diccionario con datos de un alumno a partir de listas.                                                                    3. Imprimir Diccionario: Mostrar los datos del alumno en formato de registro.                                                                     4. Salir: Finalizar el programa."
      ]
    },
    {
      "cell_type": "code",
      "execution_count": null,
      "metadata": {
        "id": "ppMeUBwMZjeP"
      },
      "outputs": [],
      "source": [
        "def leer_diccionario():\n",
        "  diccionario = {}\n",
        "\n",
        "  try:\n",
        "    ID = int(input(\"Introduce tu ID:\"))\n",
        "  except:\n",
        "    print(\"Introduce solo numeros enteros\")\n",
        "\n",
        "  try:\n",
        "    Edad = int(input(\"Introduce tu edad:\"))\n",
        "    if Edad < 18 :\n",
        "      print(\"La edad debe ser mayor a 18\")\n",
        "\n",
        "  except:\n",
        "    print(\"Introduce solo numeros enteros\")\n",
        "\n",
        "  diccionario['Nombre'] = input(\"Introduce tu nombre:\")\n",
        "  diccionario['Apellido_P'] = input(\"Introduce tu apellido paterno:\")\n",
        "  diccionario['Apellido_M'] = input(\"Introduce tu apellido materno:\")\n",
        "  diccionario['Sexo'] = input(\"Introduce tu sexo (H/M):\")\n",
        "\n",
        "  return diccionario\n"
      ]
    },
    {
      "cell_type": "code",
      "execution_count": null,
      "metadata": {
        "id": "Hw4u9M9MZjZv"
      },
      "outputs": [],
      "source": [
        "def crear_diccionario():\n",
        "  import random\n",
        "  diccionario = {}\n",
        "\n",
        "  ID = random.randint(300000,399999)\n",
        "\n",
        "  Nombres = [\"Alex\", \"Sam\", \"Cris\", \"Noa\", \"Dani\", \"Emma\", \"Morgan\"]\n",
        "  Apellidos = [\"Ramos\", \"Ramirez\", \"Zahid\", \"Verdugo\", \"Venegas\", \"Flores\", \"Ortega\", \"Cano\"]\n",
        "\n",
        "\n",
        "  diccionario['ID'] = ID\n",
        "  diccionario['Nombre'] = random.choice(Nombres)\n",
        "  diccionario['Apellido_P'] = random.choice(Apellidos)\n",
        "  diccionario['Apellido_M'] = random.choice(Apellidos)\n",
        "  diccionario['Edad'] = random.randint(18,30)\n",
        "  diccionario['Sexo'] = random.choice([\"H\", \"M\"])\n",
        "\n",
        "\n",
        "  return diccionario\n",
        "\n"
      ]
    },
    {
      "cell_type": "code",
      "execution_count": null,
      "metadata": {
        "id": "Dq0pqDV7ZjQY"
      },
      "outputs": [],
      "source": [
        "def imprimir_diccionario(D_one, D_two):\n",
        "  print(\"Imprimir El leido: 1\")\n",
        "  print(\"Imprimir El creado: 2\")\n",
        "\n",
        "  try:\n",
        "    opcion = int(input(\"Elige una opción:\"))\n",
        "  except:\n",
        "    print(\"Introduce solo numeros enteros\")\n",
        "\n",
        "  print(\"\\n\")\n",
        "  if opcion == 1:\n",
        "    diccionario = D_one\n",
        "    for key, value in diccionario.items():\n",
        "      print(f\"{key}: {value}\")\n",
        "  elif opcion == 2:\n",
        "    diccionario = D_two\n",
        "    for key, value in diccionario.items():\n",
        "      print(f\"{key}: {value}\")\n",
        "  else:\n",
        "    print(\"Opción no válida. Por favor, elige una opción válida.\")\n",
        "\n"
      ]
    },
    {
      "cell_type": "code",
      "execution_count": null,
      "metadata": {
        "id": "cU9-mS1_V5Xx"
      },
      "outputs": [],
      "source": [
        "def diccionario_alumno():\n",
        "\n",
        "  Fr_diccionario = {}\n",
        "  Sc_diccionario = {}\n",
        "\n",
        "  print(\"Menú de Opciones:\")\n",
        "  print(\"1. Leer Diccionario\")\n",
        "  print(\"2. Generar Diccionario\")\n",
        "  print(\"3. Imprimir Diccionario\")\n",
        "  print(\"0. Salir\")\n",
        "\n",
        "  while True:\n",
        "    try:\n",
        "\n",
        "      print(\"\\n\")\n",
        "      opcion = int(input(\"Elige una opción:\"))\n",
        "      print(\"\\n\")\n",
        "\n",
        "      if opcion == 1:\n",
        "        Fr_diccionario = leer_diccionario()\n",
        "      elif opcion == 2:\n",
        "        Sc_diccionario = crear_diccionario()\n",
        "      elif opcion == 3:\n",
        "        imprimir_diccionario(Fr_diccionario, Sc_diccionario)\n",
        "      elif opcion == 0:\n",
        "        print(\"\\n\")\n",
        "        print(\"Saliendo del programa...\")\n",
        "        break\n",
        "      else:\n",
        "        print(\"Opción no válida. Por favor, elige una opción válida.\")\n",
        "    except:\n",
        "      print(\"Introduce solo numeros enteros\")\n"
      ]
    },
    {
      "cell_type": "code",
      "execution_count": null,
      "metadata": {
        "colab": {
          "base_uri": "https://localhost:8080/"
        },
        "id": "UrkXzhLWZ2ZE",
        "outputId": "fc3af1ac-daf8-4111-c849-8072a479d4f4"
      },
      "outputs": [
        {
          "output_type": "stream",
          "name": "stdout",
          "text": [
            "Menú de Opciones:\n",
            "1. Leer Diccionario\n",
            "2. Generar Diccionario\n",
            "3. Imprimir Diccionario\n",
            "0. Salir\n",
            "\n",
            "\n",
            "Elige una opción:1\n",
            "\n",
            "\n",
            "Introduce tu ID:380220\n",
            "Introduce tu edad:19\n",
            "Introduce tu nombre:Wilfredo Ronaldo \n",
            "Introduce tu apellido paterno:Martinez \n",
            "Introduce tu apellido materno:Venegas\n",
            "Introduce tu sexo (H/M):H\n",
            "\n",
            "\n",
            "Elige una opción:2\n",
            "\n",
            "\n",
            "\n",
            "\n",
            "Elige una opción:3\n",
            "\n",
            "\n",
            "Imprimir El leido: 1\n",
            "Imprimir El creado: 2\n",
            "Elige una opción:1\n",
            "\n",
            "\n",
            "Nombre: Wilfredo Ronaldo \n",
            "Apellido_P: Martinez \n",
            "Apellido_M: Venegas\n",
            "Sexo: H\n",
            "\n",
            "\n",
            "Elige una opción:3\n",
            "\n",
            "\n",
            "Imprimir El leido: 1\n",
            "Imprimir El creado: 2\n",
            "Elige una opción:2\n",
            "\n",
            "\n",
            "ID: 361451\n",
            "Nombre: Noa\n",
            "Apellido_P: Verdugo\n",
            "Apellido_M: Flores\n",
            "Edad: 25\n",
            "Sexo: M\n",
            "\n",
            "\n",
            "Elige una opción:0\n",
            "\n",
            "\n",
            "\n",
            "\n",
            "Saliendo del programa...\n"
          ]
        }
      ],
      "source": [
        "diccionario_alumno()"
      ]
    }
  ],
  "metadata": {
    "colab": {
      "provenance": [],
      "authorship_tag": "ABX9TyPNL4THMZiEovBJpTcVj9jv",
      "include_colab_link": true
    },
    "kernelspec": {
      "display_name": "Python 3",
      "name": "python3"
    },
    "language_info": {
      "name": "python"
    }
  },
  "nbformat": 4,
  "nbformat_minor": 0
}