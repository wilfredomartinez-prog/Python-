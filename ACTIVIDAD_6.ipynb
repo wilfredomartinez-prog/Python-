{
  "nbformat": 4,
  "nbformat_minor": 0,
  "metadata": {
    "colab": {
      "provenance": [],
      "authorship_tag": "ABX9TyM+j1+3C1G7Lm2p0kbg8x/2",
      "include_colab_link": true
    },
    "kernelspec": {
      "name": "python3",
      "display_name": "Python 3"
    },
    "language_info": {
      "name": "python"
    }
  },
  "cells": [
    {
      "cell_type": "markdown",
      "metadata": {
        "id": "view-in-github",
        "colab_type": "text"
      },
      "source": [
        "<a href=\"https://colab.research.google.com/github/wilfredomartinez-prog/Python-/blob/main/ACTIVIDAD_6.ipynb\" target=\"_parent\"><img src=\"https://colab.research.google.com/assets/colab-badge.svg\" alt=\"Open In Colab\"/></a>"
      ]
    },
    {
      "cell_type": "markdown",
      "source": [
        "# ACTIVIDAD 6"
      ],
      "metadata": {
        "id": "_Fx_ko0vQlDB"
      }
    },
    {
      "cell_type": "markdown",
      "source": [
        "## 1. Adivina el Número (3 Intentos)"
      ],
      "metadata": {
        "id": "1oEUlcz4QquA"
      }
    },
    {
      "cell_type": "markdown",
      "source": [
        "### Crear un juego donde el usuario adivine un número aleatorio entre 1 y 10. El usuario tiene 3 intentos. Al finalizar, mostrar cuántas veces ganó o perdió."
      ],
      "metadata": {
        "id": "p4g3sEwLQtdI"
      }
    },
    {
      "cell_type": "code",
      "source": [
        "import random\n",
        "\n",
        "def juego_adivinar():\n",
        "    adivina = random.randint(1,10)\n",
        "    i = 0\n",
        "    W = 0\n",
        "    L = 0\n",
        "\n",
        "    while i < 3:\n",
        "        try:\n",
        "            numero = int(input(\"Ingresa un número entre 1 y 10: \\n\"))\n",
        "            if numero == adivina:\n",
        "              W += 1\n",
        "              print(f\"Ganaste el numero es: {adivina}\")\n",
        "              break\n",
        "\n",
        "            else:\n",
        "              L += 1\n",
        "              print(\"fallaste\")\n",
        "              print(\"Intenta de nuevo\")\n",
        "              prox = abs(numero - adivina)\n",
        "              if prox < 3:\n",
        "                print(\"Estas cerca\")\n",
        "              elif prox < 5:\n",
        "                print(\"Estas lejos\")\n",
        "              else:\n",
        "                print(\"Estas muy lejos\")\n",
        "\n",
        "            i += 1\n",
        "\n",
        "        except:\n",
        "              print(\"Solo introduce numeros\")\n",
        "    else:\n",
        "        print(f\"Perdiste el numero era: {adivina}\")\n",
        "\n",
        "    Y = input(\"Deseas seguir? 1= si 2 = no \\n\")\n",
        "    if Y == \"1\":\n",
        "        juego_adivinar()\n",
        "    else:\n",
        "        print(\"Gracias por jugar\")\n",
        "        print(f\"Ganaste: {W} veces\")\n",
        "        print(f\"Perdiste: {L} veces\")"
      ],
      "metadata": {
        "id": "lRXAaLlqlzkt"
      },
      "execution_count": null,
      "outputs": []
    },
    {
      "cell_type": "code",
      "source": [
        "juego_adivinar()"
      ],
      "metadata": {
        "colab": {
          "base_uri": "https://localhost:8080/"
        },
        "id": "BPy_Is0TnbZ6",
        "outputId": "1a479fc1-9324-4de1-d7f0-d6ba14538723"
      },
      "execution_count": null,
      "outputs": [
        {
          "output_type": "stream",
          "name": "stdout",
          "text": [
            "Ingresa un número entre 1 y 10: \n",
            "7\n",
            "fallaste\n",
            "Intenta de nuevo\n",
            "Estas lejos\n",
            "Ingresa un número entre 1 y 10: \n",
            "5\n",
            "fallaste\n",
            "Intenta de nuevo\n",
            "Estas cerca\n",
            "Ingresa un número entre 1 y 10: \n",
            "3\n",
            "Ganaste el numero es: 3\n",
            "Deseas seguir? 1= si 2 = no \n",
            "2\n",
            "Gracias por jugar\n",
            "Ganaste: 1 veces\n",
            "Perdiste: 2 veces\n"
          ]
        }
      ]
    },
    {
      "cell_type": "markdown",
      "source": [
        "## 2. Busca Número en Lista (3 Versiones)"
      ],
      "metadata": {
        "id": "K3rtH2OYlmHp"
      }
    },
    {
      "cell_type": "markdown",
      "source": [
        "### Generar una lista de 10 números aleatorios únicos (1-10). Mostrar un número aleatorio de la lista y pedir al usuario que adivine su índice. El usuario tiene 3 intentos."
      ],
      "metadata": {
        "id": "7JWij8kuls7Z"
      }
    },
    {
      "cell_type": "code",
      "execution_count": null,
      "metadata": {
        "id": "9Q1usTivQaox"
      },
      "outputs": [],
      "source": [
        "import random\n",
        "\n",
        "def Llenar_lista_Ciclo():\n",
        "    lista = []\n",
        "    for i in range(10):\n",
        "        lista.append(random.randint(1, 10))\n",
        "    return lista\n"
      ]
    },
    {
      "cell_type": "code",
      "source": [
        "def Llenar_lista_sample():\n",
        "    lista = random.sample(range(1, 11), 10)\n",
        "    return lista"
      ],
      "metadata": {
        "id": "dy4kqjVAWhMU"
      },
      "execution_count": null,
      "outputs": []
    },
    {
      "cell_type": "code",
      "source": [
        "def Llenar_lista_shufle():\n",
        "    lista = list(range(1, 11))\n",
        "    random.shuffle(lista)\n",
        "    return lista"
      ],
      "metadata": {
        "id": "7mr9PNuVYE-i"
      },
      "execution_count": null,
      "outputs": []
    },
    {
      "cell_type": "code",
      "source": [
        "import random\n",
        "\n",
        "def juego_localizar():\n",
        "\n",
        "    E = random.randint(1,3)\n",
        "    if E == 1:\n",
        "        lista = Llenar_lista_Ciclo()\n",
        "    elif E == 2:\n",
        "        lista = Llenar_lista_sample()\n",
        "    elif E == 3:\n",
        "        lista = Llenar_lista_shufle()\n",
        "\n",
        "    adivina = random.randint(1,10)\n",
        "    i = 0\n",
        "    print(f\" Encuentra el numero {adivina} en la lista\")\n",
        "\n",
        "    while i < 3:\n",
        "      try:\n",
        "         pos = int(input(\"Indice --->\"))\n",
        "         if lista[pos-1] == adivina:\n",
        "            print(\"Ganaste\")\n",
        "            print(f\"lista: {lista}\")\n",
        "            break\n",
        "         i += 1\n",
        "      except:\n",
        "         print(\"Solo introduce numeros\")\n",
        "    else:\n",
        "      print(\"Perdiste las 3 oportunidades\")\n",
        "      print(f\"Lista: {lista}\")"
      ],
      "metadata": {
        "id": "rqdA6IGri6he"
      },
      "execution_count": null,
      "outputs": []
    },
    {
      "cell_type": "code",
      "source": [
        "juego_localizar()"
      ],
      "metadata": {
        "id": "ZV8LgatIgMwQ",
        "colab": {
          "base_uri": "https://localhost:8080/"
        },
        "outputId": "bf4786a7-94a9-45a5-ab07-b7683fdc1b41"
      },
      "execution_count": null,
      "outputs": [
        {
          "output_type": "stream",
          "name": "stdout",
          "text": [
            " Encuentra el numero 8 en la lista\n",
            "Indice --->3\n",
            "Indice --->5\n",
            "Indice --->6\n",
            "Perdiste las 3 oportunidades\n",
            "Lista: [9, 1, 4, 8, 7, 3, 2, 5, 6, 10]\n"
          ]
        }
      ]
    }
  ]
}